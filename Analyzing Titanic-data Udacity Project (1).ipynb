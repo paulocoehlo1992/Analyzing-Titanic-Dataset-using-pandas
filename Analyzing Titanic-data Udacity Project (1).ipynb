{
 "cells": [
  {
   "cell_type": "markdown",
   "metadata": {
    "collapsed": false
   },
   "source": [
    "# Questions posed for Investigation :\n",
    "\n",
    "1.what was the survival rate across  different gender and  How gender affected the survival of people ?\n",
    "\n",
    "2.How age was related to Survival and is there any relationship across any age group ?\n",
    "\n",
    "3.How Survival of people was related to their passenger class ?\n",
    "\n",
    "4.Does fares differ significantly across those who survived and those who did not ?\n",
    "\n",
    "5.Does average age of men and women differ significantly among those who survived ?\n"
   ]
  },
  {
   "cell_type": "code",
   "execution_count": 35,
   "metadata": {
    "collapsed": false
   },
   "outputs": [
    {
     "data": {
      "text/html": [
       "<div>\n",
       "<table border=\"1\" class=\"dataframe\">\n",
       "  <thead>\n",
       "    <tr style=\"text-align: right;\">\n",
       "      <th></th>\n",
       "      <th>PassengerId</th>\n",
       "      <th>Survived</th>\n",
       "      <th>Pclass</th>\n",
       "      <th>Age</th>\n",
       "      <th>SibSp</th>\n",
       "      <th>Parch</th>\n",
       "      <th>Fare</th>\n",
       "    </tr>\n",
       "  </thead>\n",
       "  <tbody>\n",
       "    <tr>\n",
       "      <th>count</th>\n",
       "      <td>891.000000</td>\n",
       "      <td>891.000000</td>\n",
       "      <td>891.000000</td>\n",
       "      <td>714.000000</td>\n",
       "      <td>891.000000</td>\n",
       "      <td>891.000000</td>\n",
       "      <td>891.000000</td>\n",
       "    </tr>\n",
       "    <tr>\n",
       "      <th>mean</th>\n",
       "      <td>446.000000</td>\n",
       "      <td>0.383838</td>\n",
       "      <td>2.308642</td>\n",
       "      <td>29.699118</td>\n",
       "      <td>0.523008</td>\n",
       "      <td>0.381594</td>\n",
       "      <td>32.204208</td>\n",
       "    </tr>\n",
       "    <tr>\n",
       "      <th>std</th>\n",
       "      <td>257.353842</td>\n",
       "      <td>0.486592</td>\n",
       "      <td>0.836071</td>\n",
       "      <td>14.526497</td>\n",
       "      <td>1.102743</td>\n",
       "      <td>0.806057</td>\n",
       "      <td>49.693429</td>\n",
       "    </tr>\n",
       "    <tr>\n",
       "      <th>min</th>\n",
       "      <td>1.000000</td>\n",
       "      <td>0.000000</td>\n",
       "      <td>1.000000</td>\n",
       "      <td>0.420000</td>\n",
       "      <td>0.000000</td>\n",
       "      <td>0.000000</td>\n",
       "      <td>0.000000</td>\n",
       "    </tr>\n",
       "    <tr>\n",
       "      <th>25%</th>\n",
       "      <td>223.500000</td>\n",
       "      <td>0.000000</td>\n",
       "      <td>2.000000</td>\n",
       "      <td>20.125000</td>\n",
       "      <td>0.000000</td>\n",
       "      <td>0.000000</td>\n",
       "      <td>7.910400</td>\n",
       "    </tr>\n",
       "    <tr>\n",
       "      <th>50%</th>\n",
       "      <td>446.000000</td>\n",
       "      <td>0.000000</td>\n",
       "      <td>3.000000</td>\n",
       "      <td>28.000000</td>\n",
       "      <td>0.000000</td>\n",
       "      <td>0.000000</td>\n",
       "      <td>14.454200</td>\n",
       "    </tr>\n",
       "    <tr>\n",
       "      <th>75%</th>\n",
       "      <td>668.500000</td>\n",
       "      <td>1.000000</td>\n",
       "      <td>3.000000</td>\n",
       "      <td>38.000000</td>\n",
       "      <td>1.000000</td>\n",
       "      <td>0.000000</td>\n",
       "      <td>31.000000</td>\n",
       "    </tr>\n",
       "    <tr>\n",
       "      <th>max</th>\n",
       "      <td>891.000000</td>\n",
       "      <td>1.000000</td>\n",
       "      <td>3.000000</td>\n",
       "      <td>80.000000</td>\n",
       "      <td>8.000000</td>\n",
       "      <td>6.000000</td>\n",
       "      <td>512.329200</td>\n",
       "    </tr>\n",
       "  </tbody>\n",
       "</table>\n",
       "</div>"
      ],
      "text/plain": [
       "       PassengerId    Survived      Pclass         Age       SibSp  \\\n",
       "count   891.000000  891.000000  891.000000  714.000000  891.000000   \n",
       "mean    446.000000    0.383838    2.308642   29.699118    0.523008   \n",
       "std     257.353842    0.486592    0.836071   14.526497    1.102743   \n",
       "min       1.000000    0.000000    1.000000    0.420000    0.000000   \n",
       "25%     223.500000    0.000000    2.000000   20.125000    0.000000   \n",
       "50%     446.000000    0.000000    3.000000   28.000000    0.000000   \n",
       "75%     668.500000    1.000000    3.000000   38.000000    1.000000   \n",
       "max     891.000000    1.000000    3.000000   80.000000    8.000000   \n",
       "\n",
       "            Parch        Fare  \n",
       "count  891.000000  891.000000  \n",
       "mean     0.381594   32.204208  \n",
       "std      0.806057   49.693429  \n",
       "min      0.000000    0.000000  \n",
       "25%      0.000000    7.910400  \n",
       "50%      0.000000   14.454200  \n",
       "75%      0.000000   31.000000  \n",
       "max      6.000000  512.329200  "
      ]
     },
     "execution_count": 35,
     "metadata": {},
     "output_type": "execute_result"
    }
   ],
   "source": [
    "# importing different modules to the notebook\n",
    "\n",
    "import pandas as pd\n",
    "import numpy as np\n",
    "import matplotlib\n",
    "import matplotlib.pyplot as plt\n",
    "import seaborn as sns\n",
    "%matplotlib inline\n",
    "titanic_1=pd.read_csv(\"titanic-data.csv.txt\")\n",
    "\n",
    "# Data Preprocessing\n",
    "\n",
    "#We are removing the \"Cabin\" column as it contains most of entries as NaN\n",
    "titanic_1.drop(\"Cabin\", axis=1,inplace=True)\n",
    "# using describe() attribute to see some basic descriptive statistics across numeric columns\n",
    "titanic_1.describe()"
   ]
  },
  {
   "cell_type": "markdown",
   "metadata": {},
   "source": [
    "We can see that \"Age\" column have only 714 values, which means 177 values are missing. Since this missing values constitute \n",
    "a large proportion , we cant fill them with mean or median age of column. This can cause variations in our results.We will ignore missing values and takes into account only provided values."
   ]
  },
  {
   "cell_type": "code",
   "execution_count": 53,
   "metadata": {
    "collapsed": false
   },
   "outputs": [
    {
     "data": {
      "text/html": [
       "<div>\n",
       "<table border=\"1\" class=\"dataframe\">\n",
       "  <thead>\n",
       "    <tr style=\"text-align: right;\">\n",
       "      <th></th>\n",
       "      <th>PassengerId</th>\n",
       "      <th>Survived</th>\n",
       "      <th>Pclass</th>\n",
       "      <th>Name</th>\n",
       "      <th>Sex</th>\n",
       "      <th>Age</th>\n",
       "      <th>SibSp</th>\n",
       "      <th>Parch</th>\n",
       "      <th>Ticket</th>\n",
       "      <th>Fare</th>\n",
       "      <th>Embarked</th>\n",
       "    </tr>\n",
       "  </thead>\n",
       "  <tbody>\n",
       "    <tr>\n",
       "      <th>0</th>\n",
       "      <td>1</td>\n",
       "      <td>0</td>\n",
       "      <td>3</td>\n",
       "      <td>Braund, Mr. Owen Harris</td>\n",
       "      <td>male</td>\n",
       "      <td>22.0</td>\n",
       "      <td>1</td>\n",
       "      <td>0</td>\n",
       "      <td>A/5 21171</td>\n",
       "      <td>7.2500</td>\n",
       "      <td>S</td>\n",
       "    </tr>\n",
       "    <tr>\n",
       "      <th>1</th>\n",
       "      <td>2</td>\n",
       "      <td>1</td>\n",
       "      <td>1</td>\n",
       "      <td>Cumings, Mrs. John Bradley (Florence Briggs Th...</td>\n",
       "      <td>female</td>\n",
       "      <td>38.0</td>\n",
       "      <td>1</td>\n",
       "      <td>0</td>\n",
       "      <td>PC 17599</td>\n",
       "      <td>71.2833</td>\n",
       "      <td>C</td>\n",
       "    </tr>\n",
       "    <tr>\n",
       "      <th>2</th>\n",
       "      <td>3</td>\n",
       "      <td>1</td>\n",
       "      <td>3</td>\n",
       "      <td>Heikkinen, Miss. Laina</td>\n",
       "      <td>female</td>\n",
       "      <td>26.0</td>\n",
       "      <td>0</td>\n",
       "      <td>0</td>\n",
       "      <td>STON/O2. 3101282</td>\n",
       "      <td>7.9250</td>\n",
       "      <td>S</td>\n",
       "    </tr>\n",
       "  </tbody>\n",
       "</table>\n",
       "</div>"
      ],
      "text/plain": [
       "   PassengerId  Survived  Pclass  \\\n",
       "0            1         0       3   \n",
       "1            2         1       1   \n",
       "2            3         1       3   \n",
       "\n",
       "                                                Name     Sex   Age  SibSp  \\\n",
       "0                            Braund, Mr. Owen Harris    male  22.0      1   \n",
       "1  Cumings, Mrs. John Bradley (Florence Briggs Th...  female  38.0      1   \n",
       "2                             Heikkinen, Miss. Laina  female  26.0      0   \n",
       "\n",
       "   Parch            Ticket     Fare Embarked  \n",
       "0      0         A/5 21171   7.2500        S  \n",
       "1      0          PC 17599  71.2833        C  \n",
       "2      0  STON/O2. 3101282   7.9250        S  "
      ]
     },
     "execution_count": 53,
     "metadata": {},
     "output_type": "execute_result"
    }
   ],
   "source": [
    "# lets check top3 data rows in our dataset\n",
    "titanic_1.head(3)"
   ]
  },
  {
   "cell_type": "markdown",
   "metadata": {},
   "source": [
    "# Since we are done with data preprocessing , lets analyze our Dataset\n",
    "   by finding the number of people who survived  and those who did not, and we can see that in our given dataset ,549 people did \n",
    "   not survive  and only 342 survived."
   ]
  },
  {
   "cell_type": "code",
   "execution_count": 42,
   "metadata": {
    "collapsed": false
   },
   "outputs": [
    {
     "name": "stdout",
     "output_type": "stream",
     "text": [
      "Number of people did not Survived:\n",
      "0    549\n",
      "Name: Survived, dtype: int64\n",
      "Number of people who Survived:\n",
      "1    342\n",
      "Name: Survived, dtype: int64\n"
     ]
    }
   ],
   "source": [
    "# finding the number of people survived and those who do not in given dataset\n",
    "print(\"Number of people did not Survived:\")\n",
    "print(titanic_1[titanic_1.Survived==0].Survived.value_counts())\n",
    "print(\"Number of people who Survived:\")\n",
    "print(titanic_1[titanic_1.Survived==1].Survived.value_counts())"
   ]
  },
  {
   "cell_type": "markdown",
   "metadata": {},
   "source": [
    "# Lets find out survival of the people with respect to their \"Gender\" \n",
    "  We are making assumption that people below age 10 would be considered as children "
   ]
  },
  {
   "cell_type": "code",
   "execution_count": 50,
   "metadata": {
    "collapsed": false
   },
   "outputs": [
    {
     "name": "stdout",
     "output_type": "stream",
     "text": [
      "Number of womens survived above age 10:\n",
      "1    178\n",
      "Name: Survived, dtype: int64\n",
      "Number of men survived above age 10 :\n",
      "1    74\n",
      "Name: Survived, dtype: int64\n",
      "Number of chidren survived below or at age 10 :\n",
      "1    38\n",
      "Name: Survived, dtype: int64\n"
     ]
    }
   ],
   "source": [
    "\n",
    "# finding the number of people who survived but , were female, chidren below 10, male\n",
    "\n",
    "print(\"Number of womens survived above age 10:\")\n",
    "print(titanic_1[(((titanic_1.Age>10) & (titanic_1.Sex==\"female\")) & (titanic_1.Survived==1))].Survived.value_counts())\n",
    "print(\"Number of men survived above age 10 :\")\n",
    "print(titanic_1[(((titanic_1.Age>10) & (titanic_1.Sex==\"male\")) & (titanic_1.Survived==1))].Survived.value_counts())\n",
    "print(\"Number of chidren survived below or at age 10 :\")\n",
    "print(titanic_1[((titanic_1.Age<=10)  & (titanic_1.Survived==1))].Survived.value_counts())\n"
   ]
  },
  {
   "cell_type": "markdown",
   "metadata": {},
   "source": [
    "# lets find out percentage of survival for each men,women ,children\n",
    "  we can easily see that survival rate of women are much high as compared to the men or children and it can be inferred \n",
    "  that rescue policy have \"women and children first\" Approach.Survival percentage : women = 77.39% , children= 59.375 %, \n",
    "  men= 17.61 %"
   ]
  },
  {
   "cell_type": "code",
   "execution_count": 48,
   "metadata": {
    "collapsed": false
   },
   "outputs": [
    {
     "name": "stdout",
     "output_type": "stream",
     "text": [
      "Percentage of men Survived:\n",
      "1    17.619048\n",
      "Name: Survived, dtype: float64\n",
      "Percentage of women Survived:\n",
      "1    77.391304\n",
      "Name: Survived, dtype: float64\n",
      "Percentage of children Survived:\n",
      "1    59.375\n",
      "Name: Survived, dtype: float64\n"
     ]
    }
   ],
   "source": [
    "# lets find out the percentage of men,women, children, survived \n",
    "\n",
    "no_of_men=len(titanic[((titanic.Age>10)&(titanic.Sex==\"male\"))].Survived)\n",
    "no_of_women=len(titanic[((titanic.Age>10)&(titanic.Sex==\"female\"))].Survived)\n",
    "no_of_children=len(titanic[(titanic.Age<=10)].Survived)\n",
    "print(\"Percentage of men Survived:\")\n",
    "print(((titanic[(((titanic.Age>10) & (titanic.Sex==\"male\")) & (titanic.Survived==1))].Survived.value_counts())/no_of_men) *100)\n",
    "print(\"Percentage of women Survived:\")\n",
    "print(((titanic[(((titanic.Age>10) & (titanic.Sex==\"female\")) & (titanic.Survived==1))].Survived.value_counts())/no_of_women)*100)\n",
    "print(\"Percentage of children Survived:\")\n",
    "print(((titanic[((titanic.Age<=10)  & (titanic.Survived==1))].Survived.value_counts())/no_of_children)*100)"
   ]
  },
  {
   "cell_type": "markdown",
   "metadata": {},
   "source": [
    "\"\"\"In the above , we can see that Survivial rate of WOMEN was the highest ,followed by CHILDREN\"\"\""
   ]
  },
  {
   "cell_type": "markdown",
   "metadata": {},
   "source": [
    "# lets do Visualization "
   ]
  },
  {
   "cell_type": "code",
   "execution_count": 51,
   "metadata": {
    "collapsed": false
   },
   "outputs": [
    {
     "data": {
      "text/plain": [
       "<matplotlib.text.Text at 0xb97f278>"
      ]
     },
     "execution_count": 51,
     "metadata": {},
     "output_type": "execute_result"
    },
    {
     "data": {
      "image/png": "[encoded data removed]",
      "text/plain": [
       "<matplotlib.figure.Figure at 0xc936b00>"
      ]
     },
     "metadata": {},
     "output_type": "display_data"
    }
   ],
   "source": [
    "#plotting the histogram of the age of the people who survived\n",
    "\n",
    "titanic_1[titanic_1.Survived==1].Age.plot.hist(bins=8,alpha=0.7,color=\"r\",figsize=(8,4))\n",
    "plt.xlabel(\"Age distribution of people who survived\")"
   ]
  },
  {
   "cell_type": "markdown",
   "metadata": {},
   "source": [
    "We  can see that maximum no of people who survived belong to the age group of 20-30, irrespective of their class, and gender. This distribution follows a normal Curve."
   ]
  },
  {
   "cell_type": "code",
   "execution_count": 52,
   "metadata": {
    "collapsed": false
   },
   "outputs": [
    {
     "data": {
      "text/plain": [
       "<matplotlib.text.Text at 0xa1a55c0>"
      ]
     },
     "execution_count": 52,
     "metadata": {},
     "output_type": "execute_result"
    },
    {
     "data": {
      "image/png": "[encoded data removed]",
      "text/plain": [
       "<matplotlib.figure.Figure at 0xb906748>"
      ]
     },
     "metadata": {},
     "output_type": "display_data"
    }
   ],
   "source": [
    "#plotting the histogram of the age of the people who did not survive\n",
    "\n",
    "titanic_1[titanic_1.Survived==0].Age.plot(bins=8,color=\"b\",kind=\"hist\",figsize=(8,4))\n",
    "plt.xlabel(\"Age distribution of people who did not survive\")"
   ]
  },
  {
   "cell_type": "markdown",
   "metadata": {},
   "source": [
    "In this case also , maximum number of people who didnt survive falls in range 20-30"
   ]
  },
  {
   "cell_type": "code",
   "execution_count": 59,
   "metadata": {
    "collapsed": false
   },
   "outputs": [
    {
     "data": {
      "text/plain": [
       "<matplotlib.text.Text at 0xd63fa20>"
      ]
     },
     "execution_count": 59,
     "metadata": {},
     "output_type": "execute_result"
    },
    {
     "data": {
      "image/png": "[encoded data removed]",
      "text/plain": [
       "<matplotlib.figure.Figure at 0xd749c50>"
      ]
     },
     "metadata": {},
     "output_type": "display_data"
    }
   ],
   "source": [
    "# plotting survival of passenger vs Fare \n",
    "\n",
    "plt.figure()\n",
    "titanic_1[titanic_1.Survived==1].Fare.plot(kind=\"hist\",figsize=(8,4))\n",
    "plt.xlabel(\"Fare in USD\")\n",
    "plt.ylabel(\"Number of people survived\")\n"
   ]
  },
  {
   "cell_type": "code",
   "execution_count": 60,
   "metadata": {
    "collapsed": false
   },
   "outputs": [
    {
     "data": {
      "text/plain": [
       "<matplotlib.text.Text at 0xd928d30>"
      ]
     },
     "execution_count": 60,
     "metadata": {},
     "output_type": "execute_result"
    },
    {
     "data": {
      "image/png": "[encoded data removed]",
      "text/plain": [
       "<matplotlib.figure.Figure at 0xd8c29b0>"
      ]
     },
     "metadata": {},
     "output_type": "display_data"
    }
   ],
   "source": [
    "plt.figure()\n",
    "titanic_1[titanic_1.Survived==0].Fare.plot.hist(alpha=0.5,figsize=(8,4))\n",
    "plt.xlabel(\"Fare in USD\")\n",
    "plt.ylabel(\"Number of people survived did not survive\")\n"
   ]
  },
  {
   "cell_type": "markdown",
   "metadata": {},
   "source": [
    "in the above plot, we can see that number of people who did not survive with fare less than 25 USD is comparatively higher as compared to those who did survive with less than 25 USD fare. We can say to some extent ,that rescue mission had some baise towards lower class people ."
   ]
  },
  {
   "cell_type": "code",
   "execution_count": 62,
   "metadata": {
    "collapsed": false
   },
   "outputs": [
    {
     "data": {
      "text/plain": [
       "<matplotlib.text.Text at 0xe0e82b0>"
      ]
     },
     "execution_count": 62,
     "metadata": {},
     "output_type": "execute_result"
    },
    {
     "data": {
      "image/png": "[encoded data removed]",
      "text/plain": [
       "<matplotlib.figure.Figure at 0xde107f0>"
      ]
     },
     "metadata": {},
     "output_type": "display_data"
    }
   ],
   "source": [
    "#Plotting pie charts depicting different passenger classes with survival and non-survival rate\n",
    "# We can see that how Passenger class affected the survival , as People from higer class had better chances for survival\n",
    "# Proportion of people who could not survived was higher in lowest class, namely 3\n",
    "\n",
    "f, ax = plt.subplots(2,1, figsize=(5,10))\n",
    "titanic_1[titanic_1.Survived==1].groupby('Pclass').size().plot.pie(ax=ax[0],cmap='Set2')\n",
    "ax[0].set_title(\"Distribution of Survived across Passenger Class\")\n",
    "ax[0].set_ylabel(\"Passenger Class\")\n",
    "titanic_1[titanic_1.Survived==0].groupby(\"Pclass\").size().plot.pie(ax=ax[1])\n",
    "ax[1].set_ylabel(\"Passenger Class\")\n",
    "ax[1].set_title(\"Distribution of not-Survived across Passenger Class\")"
   ]
  },
  {
   "cell_type": "markdown",
   "metadata": {},
   "source": [
    "We can see that how Passenger class affected the survival , as People from higer class had better chances for survival\n",
    "Proportion of people who could not survived was higher in lowest class, namely \"3\".\n"
   ]
  },
  {
   "cell_type": "code",
   "execution_count": 61,
   "metadata": {
    "collapsed": false
   },
   "outputs": [
    {
     "data": {
      "image/png": "[encoded data removed]",
      "text/plain": [
       "<matplotlib.figure.Figure at 0xd8b8c50>"
      ]
     },
     "metadata": {},
     "output_type": "display_data"
    }
   ],
   "source": [
    "# plotting density curve for age against survived and non-survived\n",
    "# We can see that the desnsity of person who survived is higher between age group 0- 10 , as compared to non-survived, roughly.\n",
    "\n",
    "fig = plt.figure(figsize=(10, 6))\n",
    "titanic_1[titanic_1.Survived==0].Age.value_counts().plot(kind='density', color='#FA2877', label='Not Survived', alpha=0.7)\n",
    "titanic_1[titanic_1.Survived==1].Age.value_counts().plot(kind='density', label='Survived', alpha=0.9)\n",
    "plt.xlabel('Age of people ')\n",
    "plt.title(\"What's the distribution of Age?\" )\n",
    "plt.legend(loc='best')\n",
    "plt.grid()"
   ]
  },
  {
   "cell_type": "markdown",
   "metadata": {},
   "source": [
    "Density curve shows that the density of children age<10 have better chance for Survival."
   ]
  },
  {
   "cell_type": "markdown",
   "metadata": {},
   "source": [
    "# Lets perform Some Statistical Test"
   ]
  },
  {
   "cell_type": "code",
   "execution_count": null,
   "metadata": {
    "collapsed": true
   },
   "outputs": [],
   "source": []
  },
  {
   "cell_type": "code",
   "execution_count": 152,
   "metadata": {
    "collapsed": false,
    "scrolled": true
   },
   "outputs": [
    {
     "name": "stdout",
     "output_type": "stream",
     "text": [
      "\n",
      "Ttest_indResult(statistic=-0.7892830163833362, pvalue=0.43095956954392822)\n"
     ]
    }
   ],
   "source": [
    "# importing scipy\n",
    "from scipy.stats import ttest_ind\n",
    "survived_men=titanic[((titanic.Survived==1) &(titanic.Sex==\"male\"))].Age\n",
    "survived_women =titanic[((titanic.Survived==1) &(titanic.Sex==\"female\"))].Age\n",
    "print(\"\")\n",
    "print(ttest_ind(survived_men, survived_women,equal_var=False))"
   ]
  },
  {
   "cell_type": "markdown",
   "metadata": {},
   "source": [
    "Here we are conducting t-test on two independent samples from the same population ,where one sample consist of age of women who \n",
    "survived while other sample consist of age distribution of men who survived.\n",
    "\n",
    "Null hypothesis : average age of women (survived) = average age of men (survived)\n",
    "\n",
    "Alternative hypothesis : average age of women (survived) != average age of men (Survvived)\n",
    "\n",
    "test result : Since our p- value is much greater than the alpha=0.05 , we will retain the Null.\n",
    "\n",
    "Conclusion : Average age of women and men those survived are not significantly different.\n"
   ]
  },
  {
   "cell_type": "markdown",
   "metadata": {},
   "source": [
    "## Lets find out whether average fare differ significantly across those who survived and those      who did not, by applying  t- test"
   ]
  },
  {
   "cell_type": "code",
   "execution_count": 151,
   "metadata": {
    "collapsed": false
   },
   "outputs": [
    {
     "name": "stdout",
     "output_type": "stream",
     "text": [
      "\n",
      "Ttest_indResult(statistic=6.8390992590852537, pvalue=2.6993323503141236e-11)\n"
     ]
    }
   ],
   "source": [
    "survived_fare=titanic[titanic.Survived==1].Fare\n",
    "notsurvived_fare=titanic[titanic.Survived==0].Fare\n",
    "print(\"\")\n",
    "print(ttest_ind(survived_fare,notsurvived_fare,equal_var=False))\n"
   ]
  },
  {
   "cell_type": "markdown",
   "metadata": {},
   "source": [
    "Again our p- value is greater than alpha=0.05 , we would can assume that there is no significant difference across average fare \n",
    "between those who survived and those who do not.\n",
    "\n",
    "\"We are assuming that population variance is not equal, by setting the parameter ,equal_var=False \""
   ]
  },
  {
   "cell_type": "markdown",
   "metadata": {
    "collapsed": true
   },
   "source": [
    "# SUMMARY OF ANALYSIS:\n",
    "\n",
    "It can be observed that the survival rate of women and children are considerably higher as compared to men. This clearly indicates that women and children are given more preferrence by the Rescue-operation team. There were some passenger class \n",
    "discrimation also as number of people who survived constitutes a major portion of passenger class 1, while class 3, people \n",
    "formed the large proportion of non-survived distribution. It can also be observed that from the density curves, survived to \n",
    "non- survived ratio of people of age less than 10 ,is high .\n",
    "From the result of our statistical test we can conclude that the there was not significant difference between the average age of \n",
    "men and women who survived.It can also be observed that the average fare did not differ significantly across those who survived \n",
    "and those who did not."
   ]
  },
  {
   "cell_type": "code",
   "execution_count": null,
   "metadata": {
    "collapsed": true
   },
   "outputs": [],
   "source": []
  }
 ],
 "metadata": {
  "anaconda-cloud": {},
  "kernelspec": {
   "display_name": "Python [Root]",
   "language": "python",
   "name": "Python [Root]"
  },
  "language_info": {
   "codemirror_mode": {
    "name": "ipython",
    "version": 2
   },
   "file_extension": ".py",
   "mimetype": "text/x-python",
   "name": "python",
   "nbconvert_exporter": "python",
   "pygments_lexer": "ipython2",
   "version": "2.7.12"
  }
 },
 "nbformat": 4,
 "nbformat_minor": 0
}
